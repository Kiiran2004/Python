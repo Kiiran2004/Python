{
 "cells": [
  {
   "cell_type": "code",
   "execution_count": 112,
   "id": "7303a4d5-cb7b-4a00-ad9a-6f10be484065",
   "metadata": {},
   "outputs": [
    {
     "name": "stdin",
     "output_type": "stream",
     "text": [
      "enter your percentage 99\n"
     ]
    },
    {
     "name": "stdout",
     "output_type": "stream",
     "text": [
      "Distinction\n"
     ]
    }
   ],
   "source": [
    "a=(int(input(\"enter your percentage\")))\n",
    "if a<=35:\n",
    "    print(\"FAIL\")\n",
    "elif a>=75 and a<101:\n",
    "    print(\"Distinction\")\n",
    "elif a>=60 and a<=74:\n",
    "    print(\"Second Class\")\n",
    "elif a<=59 and a>=35:\n",
    "    print(\"Pass\")\n",
    "else:\n",
    "    print(\"invalid\")"
   ]
  },
  {
   "cell_type": "code",
   "execution_count": 114,
   "id": "f83b5ef2-8017-4644-92f5-e499bb1aa36d",
   "metadata": {},
   "outputs": [
    {
     "data": {
      "text/plain": [
       "'C:\\\\Users\\\\Lenovo\\\\Kiran'"
      ]
     },
     "execution_count": 114,
     "metadata": {},
     "output_type": "execute_result"
    }
   ],
   "source": [
    "pwd"
   ]
  },
  {
   "cell_type": "code",
   "execution_count": null,
   "id": "3afab19b-b7f4-4250-bf08-dad36ebd8e7a",
   "metadata": {},
   "outputs": [],
   "source": []
  }
 ],
 "metadata": {
  "kernelspec": {
   "display_name": "Python 3 (ipykernel)",
   "language": "python",
   "name": "python3"
  },
  "language_info": {
   "codemirror_mode": {
    "name": "ipython",
    "version": 3
   },
   "file_extension": ".py",
   "mimetype": "text/x-python",
   "name": "python",
   "nbconvert_exporter": "python",
   "pygments_lexer": "ipython3",
   "version": "3.12.4"
  }
 },
 "nbformat": 4,
 "nbformat_minor": 5
}
