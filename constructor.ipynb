{
 "cells": [
  {
   "cell_type": "code",
   "execution_count": 4,
   "metadata": {},
   "outputs": [
    {
     "name": "stdout",
     "output_type": "stream",
     "text": [
      "constructor is calling\n",
      "function calling\n"
     ]
    }
   ],
   "source": [
    "class const:\n",
    "    def __init__(self):\n",
    "        print(\"constructor is calling\")\n",
    "    def aa(self):\n",
    "        print(\"function calling\")\n",
    "a=const()\n",
    "a.aa()"
   ]
  },
  {
   "cell_type": "code",
   "execution_count": 15,
   "metadata": {},
   "outputs": [
    {
     "name": "stdout",
     "output_type": "stream",
     "text": [
      "Book name: java\n",
      "Book author: kiran\n",
      "Book price: 100\n",
      "------------------------------\n"
     ]
    }
   ],
   "source": [
    "class Book:\n",
    "    def __init__(self, name, author,price):\n",
    "        self.book_name= name\n",
    "        self.book_author= author\n",
    "        self.book_price=price\n",
    "    def display(self):\n",
    "        print(\"Book name:\",self.book_name)\n",
    "        print(\"Book author:\",self.book_author)\n",
    "        print(\"Book price:\",self.book_price)\n",
    "        print(\"------------------------------\")\n",
    "\n",
    "\n",
    "n=int(input(\"number of values to enter\"))\n",
    "name=[]\n",
    "author=[]\n",
    "price=[]\n",
    "\n",
    "for i in range(n):\n",
    "    n_a=(input(\"Enter book name\"))\n",
    "    a_t=(input(\"Enter author name\"))\n",
    "    p_c=(input(\"Enter book price\"))\n",
    "    b=Book(n_a,a_t,p_c)\n",
    "    b.display()"
   ]
  },
  {
   "cell_type": "code",
   "execution_count": 18,
   "metadata": {},
   "outputs": [],
   "source": [
    "class circle:\n",
    "\n",
    "    def __init__(self, radius=5):\n",
    "        self.radius=radius\n",
    "        self.area=3.14 * radius * radius\n",
    "\n",
    "    def setradius(seld, new_radius):\n",
    "        self.radius=new_radius\n",
    "        self.area=3.14 * new_radius * new_radius\n",
    "\n",
    "    def getcircumference(self):\n",
    "        return 2*3.14 * self.radius"
   ]
  },
  {
   "cell_type": "code",
   "execution_count": 23,
   "metadata": {},
   "outputs": [
    {
     "name": "stdout",
     "output_type": "stream",
     "text": [
      "kiran\n",
      "panikar\n"
     ]
    }
   ],
   "source": [
    "class a:\n",
    "    def name(self,name):\n",
    "        print(name)\n",
    "\n",
    "class b:\n",
    "    def surname(self,sname):\n",
    "        print(sname)\n",
    "\n",
    "ab=a()\n",
    "ba=b()\n",
    "\n",
    "ab.name(\"kiran\")\n",
    "ba.surname(\"panikar\")\n"
   ]
  },
  {
   "cell_type": "code",
   "execution_count": 27,
   "metadata": {},
   "outputs": [
    {
     "name": "stdout",
     "output_type": "stream",
     "text": [
      "This is parent class\n",
      "this is child class\n",
      "90\n"
     ]
    }
   ],
   "source": [
    "class a:\n",
    "    def aa(self):\n",
    "        print(\"This is parent class\")\n",
    "\n",
    "    \n",
    "\n",
    "class b(a):\n",
    "    def bb(self):\n",
    "        print(\"this is child class\")\n",
    "\n",
    "\n",
    "B.aa()\n",
    "B.bb()\n",
    "print(B.b)\n"
   ]
  },
  {
   "cell_type": "code",
   "execution_count": 40,
   "metadata": {},
   "outputs": [
    {
     "name": "stdout",
     "output_type": "stream",
     "text": [
      "lion is the king of the jungle\n",
      "tiger is the very dangerous animal\n",
      "elephant is a very large animal\n",
      "zebra is a blant and white animal\n",
      "cat i\n",
      "tiger is very dangerous animal\n",
      "elephant is a very large animal\n",
      "zebra is a blant and white animal\n"
     ]
    }
   ],
   "source": [
    "class animal:\n",
    "    def wild(self):\n",
    "        a=['lion','tiger','elephant','zebra']\n",
    "        print(a)\n",
    "    def pet(self):\n",
    "        b=['cat','dog','cow','hen']\n",
    "        print(b)\n",
    "\n",
    "class lion(animal):\n",
    "    def wild_animal(self):\n",
    "        print(\"lion is the king of the jungle\")\n",
    "        print(\"tiger is the very dangerous animal\")\n",
    "        print(\"elephant is a very large animal\")\n",
    "        print(\"zebra is a blant and white animal\")\n",
    "\n",
    "    def pet_animal(self):\n",
    "        print(\"cat i\")\n",
    "        print(\"tiger is very dangerous animal\")\n",
    "        print(\"elephant is a very large animal\")\n",
    "        print(\"zebra is a blant and white animal\")\n",
    "\n",
    "l=lion()\n",
    "l.wild_animal()\n",
    "l.pet_animal()"
   ]
  },
  {
   "cell_type": "code",
   "execution_count": 50,
   "metadata": {},
   "outputs": [
    {
     "name": "stdout",
     "output_type": "stream",
     "text": [
      "class 4\n",
      "class 3\n",
      "class 2\n",
      "class 1\n"
     ]
    }
   ],
   "source": [
    "class a1:\n",
    "    def b1(self):\n",
    "        print(\"class 1\")\n",
    "class a2(a1):\n",
    "    def b2(self):\n",
    "        print(\"class 2\")\n",
    "class a3(a2):\n",
    "    def b3(self):\n",
    "        print(\"class 3\")\n",
    "class a4(a3):\n",
    "    def b4(self):\n",
    "        print(\"class 4\")\n",
    "\n",
    "aa=a4()\n",
    "aa.b4()\n",
    "aa.b3()\n",
    "aa.b2()\n",
    "aa.b1()"
   ]
  },
  {
   "cell_type": "code",
   "execution_count": null,
   "metadata": {},
   "outputs": [],
   "source": [
    "class a1:\n",
    "    def b1(self):\n",
    "        print(\"class 1\")\n",
    "class a2:\n",
    "    def b2(self):\n",
    "        print(\"class 2\")\n",
    "class a3(a2,a1):\n",
    "    def b3(self):\n",
    "        print(\"class 3\")\n",
    "\n"
   ]
  },
  {
   "cell_type": "code",
   "execution_count": 83,
   "metadata": {},
   "outputs": [
    {
     "name": "stdout",
     "output_type": "stream",
     "text": [
      "prime number 1\n",
      "not prime 2\n",
      "not prime 3\n",
      "prime number 4\n",
      "not prime 5\n",
      "not prime 6\n",
      "prime number 7\n",
      "not prime 8\n",
      "not prime 9\n",
      "prime number 10\n"
     ]
    }
   ],
   "source": [
    "a=(int(input(\"Enter the number\")))\n",
    "for i in range (1,a+1):\n",
    "    if i%3==0 and i%i==0:\n",
    "        print(\"prime number\",i)\n",
    "    else:\n",
    "        print(\"not prime\",i)"
   ]
  },
  {
   "cell_type": "code",
   "execution_count": 89,
   "metadata": {},
   "outputs": [
    {
     "data": {
      "text/plain": [
       "[1, 2, 3, 5, 7, 11, 13, 17, 19, 23]"
      ]
     },
     "execution_count": 89,
     "metadata": {},
     "output_type": "execute_result"
    }
   ],
   "source": [
    "lst=[]\n",
    "n=int(input(\"enter range\"))\n",
    "for i in range(1,n+1):\n",
    "    if i==1:\n",
    "        lst.append(i)\n",
    "    elif i>1:\n",
    "        for j in range(2,(i//2)+1):\n",
    "            if i%j==0:\n",
    "                break\n",
    "        else:\n",
    "            lst.append(i)\n",
    "lst"
   ]
  },
  {
   "cell_type": "code",
   "execution_count": null,
   "metadata": {},
   "outputs": [],
   "source": [
    "a=(int(input(\"enter a number\")))\n",
    "\n"
   ]
  },
  {
   "cell_type": "code",
   "execution_count": null,
   "metadata": {},
   "outputs": [],
   "source": []
  }
 ],
 "metadata": {
  "kernelspec": {
   "display_name": "Python 3",
   "language": "python",
   "name": "python3"
  },
  "language_info": {
   "codemirror_mode": {
    "name": "ipython",
    "version": 3
   },
   "file_extension": ".py",
   "mimetype": "text/x-python",
   "name": "python",
   "nbconvert_exporter": "python",
   "pygments_lexer": "ipython3",
   "version": "3.12.4"
  }
 },
 "nbformat": 4,
 "nbformat_minor": 2
}
