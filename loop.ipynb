{
 "cells": [
  {
   "cell_type": "code",
   "execution_count": 1,
   "id": "8aef91e7",
   "metadata": {},
   "outputs": [
    {
     "name": "stdout",
     "output_type": "stream",
     "text": [
      "kiran\n"
     ]
    }
   ],
   "source": [
    "print(\"kiran\")"
   ]
  },
  {
   "cell_type": "code",
   "execution_count": 2,
   "id": "1f2d05e9",
   "metadata": {},
   "outputs": [
    {
     "name": "stdout",
     "output_type": "stream",
     "text": [
      "Enter full name \n",
      "kiran panikar\n"
     ]
    }
   ],
   "source": [
    "name=input('Enter full name \\n')"
   ]
  },
  {
   "cell_type": "code",
   "execution_count": null,
   "id": "8c104342",
   "metadata": {},
   "outputs": [],
   "source": [
    "\n",
    "\n",
    "    "
   ]
  },
  {
   "cell_type": "code",
   "execution_count": 23,
   "id": "aaa496f1",
   "metadata": {},
   "outputs": [
    {
     "name": "stdout",
     "output_type": "stream",
     "text": [
      "Enter full name \n",
      "k\n",
      "Enter your age \n",
      "7\n",
      "access denied\n"
     ]
    }
   ],
   "source": []
  },
  {
   "cell_type": "code",
   "execution_count": 40,
   "id": "10475a72",
   "metadata": {},
   "outputs": [
    {
     "name": "stdout",
     "output_type": "stream",
     "text": [
      "Enter full name \n",
      "l\n",
      "Enter your age \n",
      "1\n",
      "access denied\n"
     ]
    }
   ],
   "source": [
    "name = input('Enter full name \\n')\n",
    "age = int(input('Enter your age \\n'))\n",
    "\n",
    "if age >= 18:\n",
    "    print('access granted')\n",
    "else:\n",
    "    print(\"access denied\")"
   ]
  },
  {
   "cell_type": "code",
   "execution_count": null,
   "id": "d8b16fc8",
   "metadata": {},
   "outputs": [],
   "source": []
  },
  {
   "cell_type": "code",
   "execution_count": null,
   "id": "e339b953",
   "metadata": {},
   "outputs": [],
   "source": []
  }
 ],
 "metadata": {
  "kernelspec": {
   "display_name": "Python 3 (ipykernel)",
   "language": "python",
   "name": "python3"
  },
  "language_info": {
   "codemirror_mode": {
    "name": "ipython",
    "version": 3
   },
   "file_extension": ".py",
   "mimetype": "text/x-python",
   "name": "python",
   "nbconvert_exporter": "python",
   "pygments_lexer": "ipython3",
   "version": "3.11.7"
  }
 },
 "nbformat": 4,
 "nbformat_minor": 5
}
