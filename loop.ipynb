{
 "cells": [
  {
   "cell_type": "code",
   "execution_count": 1,
   "id": "e778b54d-4883-4330-8dc2-8959c62c7d92",
   "metadata": {},
   "outputs": [
    {
     "data": {
      "text/plain": [
       "[0, 1, 2, 3, 4, 5, 6, 7, 8, 9, 10, 11, 12, 13, 14, 15, 16, 17, 18, 19, 20]"
      ]
     },
     "execution_count": 1,
     "metadata": {},
     "output_type": "execute_result"
    }
   ],
   "source": [
    "list(range(21))"
   ]
  },
  {
   "cell_type": "code",
   "execution_count": 87,
   "id": "708f2909-b56b-469f-97f5-005403ec908f",
   "metadata": {},
   "outputs": [
    {
     "name": "stdout",
     "output_type": "stream",
     "text": [
      "2\n",
      "4\n",
      "6\n",
      "8\n",
      "10\n",
      "12\n",
      "14\n",
      "16\n",
      "18\n",
      "20\n"
     ]
    }
   ],
   "source": [
    "for i in range(1,11):\n",
    "    print(i*2)"
   ]
  },
  {
   "cell_type": "code",
   "execution_count": 83,
   "id": "22806335-4047-423b-9af4-de372fc9c52e",
   "metadata": {},
   "outputs": [
    {
     "name": "stdout",
     "output_type": "stream",
     "text": [
      "ERROR! Session/line number was not unique in database. History logging moved to new session 56\n"
     ]
    },
    {
     "name": "stdin",
     "output_type": "stream",
     "text": [
      "enter a number 10\n"
     ]
    },
    {
     "name": "stdout",
     "output_type": "stream",
     "text": [
      "100\n"
     ]
    }
   ],
   "source": [
    "a=(int(input(\"enter a number\")))\n",
    "for i in range(a,11):\n",
    "    print(a*i)"
   ]
  },
  {
   "cell_type": "code",
   "execution_count": 47,
   "id": "73b9eda8-5387-40fa-965a-05b26c2d4f3a",
   "metadata": {},
   "outputs": [
    {
     "name": "stdin",
     "output_type": "stream",
     "text": [
      "check odd or even till? 5\n"
     ]
    },
    {
     "name": "stdout",
     "output_type": "stream",
     "text": [
      "the number is odd 1\n",
      "the number is even 2\n",
      "the number is odd 3\n",
      "the number is even 4\n",
      "the number is odd 5\n"
     ]
    }
   ],
   "source": [
    "b=(int(input(\"check odd or even till?\")))\n",
    "for i in range (1,b+1):\n",
    "    if i%2==0:\n",
    "        print(\"the number is even\",i)\n",
    "    else:\n",
    "        print(\"the number is odd\",i)"
   ]
  },
  {
   "cell_type": "code",
   "execution_count": 81,
   "id": "6826e1f4-39c9-4790-89d4-4ec8a16b6c1c",
   "metadata": {},
   "outputs": [
    {
     "name": "stdin",
     "output_type": "stream",
     "text": [
      "Enter number of elements to check 2\n",
      "enter numbers: 1\n",
      "enter numbers: 3\n"
     ]
    },
    {
     "name": "stdout",
     "output_type": "stream",
     "text": [
      "number you entered [1, 3]\n",
      "even numbers are: []\n",
      "odd numbers are [1, 3]\n"
     ]
    }
   ],
   "source": [
    "list=[]\n",
    "even=[]\n",
    "odd=[]\n",
    "\n",
    "a=(int(input(\"Enter number of elements to check\")))\n",
    "for i in range(a):\n",
    "    j=int(input(\"enter numbers:\"))\n",
    "    list.append(j)\n",
    "    \n",
    "for i in list:\n",
    "    if i%2==0:\n",
    "        print(\"the number is even\",i)\n",
    "        even.append(h)\n",
    "    else:\n",
    "        odd.append(i)\n",
    "\n",
    "print(\"number you entered\",list)\n",
    "print(\"even numbers are:\",even)\n",
    "print(\"odd numbers are\",odd)"
   ]
  },
  {
   "cell_type": "code",
   "execution_count": 93,
   "id": "f76caea5-62fc-4d7b-8678-3cd216deffd7",
   "metadata": {},
   "outputs": [
    {
     "name": "stdin",
     "output_type": "stream",
     "text": [
      "enter a number 5\n"
     ]
    },
    {
     "name": "stdout",
     "output_type": "stream",
     "text": [
      "25\n",
      "30\n",
      "35\n",
      "40\n",
      "45\n",
      "50\n"
     ]
    }
   ],
   "source": [
    "a=(int(input(\"enter a number\")))\n",
    "for i in range(a,11):\n",
    "    print(a*i)"
   ]
  },
  {
   "cell_type": "code",
   "execution_count": null,
   "id": "feede73c-4709-4f8b-9470-f8cd27dc7cce",
   "metadata": {},
   "outputs": [],
   "source": []
  }
 ],
 "metadata": {
  "kernelspec": {
   "display_name": "Python 3 (ipykernel)",
   "language": "python",
   "name": "python3"
  },
  "language_info": {
   "codemirror_mode": {
    "name": "ipython",
    "version": 3
   },
   "file_extension": ".py",
   "mimetype": "text/x-python",
   "name": "python",
   "nbconvert_exporter": "python",
   "pygments_lexer": "ipython3",
   "version": "3.12.4"
  }
 },
 "nbformat": 4,
 "nbformat_minor": 5
}
