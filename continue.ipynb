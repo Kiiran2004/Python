{
 "cells": [
  {
   "cell_type": "code",
   "execution_count": 43,
   "id": "109576b2",
   "metadata": {},
   "outputs": [],
   "source": [
    "a=\"kiran\"\n",
    "aa=\"\"\n",
    "for i in range(len(a)):\n",
    "    if a[i] == \"n\":\n",
    "        continue\n",
    "    else :\n",
    "        aa = aa + a[i]\n",
    "        \n"
   ]
  },
  {
   "cell_type": "code",
   "execution_count": 44,
   "id": "b3a2c8e5",
   "metadata": {},
   "outputs": [
    {
     "data": {
      "text/plain": [
       "'kira'"
      ]
     },
     "execution_count": 44,
     "metadata": {},
     "output_type": "execute_result"
    }
   ],
   "source": [
    "aa"
   ]
  },
  {
   "cell_type": "code",
   "execution_count": null,
   "id": "cdab2510",
   "metadata": {},
   "outputs": [],
   "source": []
  },
  {
   "cell_type": "code",
   "execution_count": null,
   "id": "ae23d9e0",
   "metadata": {},
   "outputs": [],
   "source": []
  }
 ],
 "metadata": {
  "kernelspec": {
   "display_name": "Python 3 (ipykernel)",
   "language": "python",
   "name": "python3"
  },
  "language_info": {
   "codemirror_mode": {
    "name": "ipython",
    "version": 3
   },
   "file_extension": ".py",
   "mimetype": "text/x-python",
   "name": "python",
   "nbconvert_exporter": "python",
   "pygments_lexer": "ipython3",
   "version": "3.11.7"
  }
 },
 "nbformat": 4,
 "nbformat_minor": 5
}
