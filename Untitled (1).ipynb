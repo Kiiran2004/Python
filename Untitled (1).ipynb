{
 "cells": [
  {
   "cell_type": "code",
   "execution_count": 1,
   "id": "d6d64b0f-2b1b-4fc8-9278-b02d166d420b",
   "metadata": {
    "editable": true,
    "slideshow": {
     "slide_type": ""
    },
    "tags": []
   },
   "outputs": [
    {
     "name": "stdout",
     "output_type": "stream",
     "text": [
      "1\n",
      "9\n",
      "16\n",
      "25\n",
      "36\n",
      "49\n",
      "64\n"
     ]
    }
   ],
   "source": [
    "my_list=[1,3,4,5,6,7,8]\n",
    "for i in my_list:\n",
    "    print(i**2)"
   ]
  },
  {
   "cell_type": "code",
   "execution_count": 3,
   "id": "b4050477-82a2-4b32-b345-53d49636047e",
   "metadata": {},
   "outputs": [
    {
     "ename": "IndentationError",
     "evalue": "expected an indented block after 'for' statement on line 1 (3595108979.py, line 2)",
     "output_type": "error",
     "traceback": [
      "\u001b[1;36m  Cell \u001b[1;32mIn[3], line 2\u001b[1;36m\u001b[0m\n\u001b[1;33m    print(i*5)\u001b[0m\n\u001b[1;37m    ^\u001b[0m\n\u001b[1;31mIndentationError\u001b[0m\u001b[1;31m:\u001b[0m expected an indented block after 'for' statement on line 1\n"
     ]
    }
   ],
   "source": [
    "for j in range (1,11):\n",
    "print(i*5)"
   ]
  },
  {
   "cell_type": "code",
   "execution_count": null,
   "id": "75329923-2d6b-4ed5-a30b-26f044b5bec9",
   "metadata": {},
   "outputs": [],
   "source": []
  },
  {
   "cell_type": "code",
   "execution_count": 7,
   "id": "26c28179-3174-462f-a466-5bef82c9cfdb",
   "metadata": {},
   "outputs": [
    {
     "name": "stdin",
     "output_type": "stream",
     "text": [
      "Enter a number 10\n"
     ]
    },
    {
     "name": "stdout",
     "output_type": "stream",
     "text": [
      "2\n",
      "4\n",
      "6\n",
      "8\n",
      "10\n",
      "12\n",
      "14\n",
      "16\n",
      "18\n",
      "20\n"
     ]
    }
   ],
   "source": [
    "a=int(input(\"Enter a number\"))\n",
    "for i in range(1,a+1):\n",
    "    print(i*2)"
   ]
  },
  {
   "cell_type": "code",
   "execution_count": 9,
   "id": "08079462-d941-46f5-abed-38af6c2428de",
   "metadata": {},
   "outputs": [
    {
     "name": "stdin",
     "output_type": "stream",
     "text": [
      "Enter a number 5\n"
     ]
    },
    {
     "name": "stdout",
     "output_type": "stream",
     "text": [
      "5\n",
      "10\n",
      "15\n",
      "20\n",
      "25\n",
      "30\n",
      "35\n",
      "40\n",
      "45\n",
      "50\n"
     ]
    }
   ],
   "source": [
    "a=int(input(\"Enter a number\"))\n",
    "for i in range(1,11):\n",
    "    print(i*a)"
   ]
  },
  {
   "cell_type": "code",
   "execution_count": 11,
   "id": "40c41bf8-7986-4f8a-899a-0095e34c298f",
   "metadata": {},
   "outputs": [],
   "source": [
    "list_of_numbers = [1,3,5,80,45,33,52,2,4,6,11,14,17,20]\n"
   ]
  },
  {
   "cell_type": "code",
   "execution_count": 12,
   "id": "e569c3a6-b1e8-4c58-a2e3-388e046d192f",
   "metadata": {},
   "outputs": [
    {
     "name": "stdout",
     "output_type": "stream",
     "text": [
      "1 is odd number\n",
      "3 is odd number\n",
      "5 is odd number\n",
      "80 is even number.\n",
      "45 is odd number\n",
      "33 is odd number\n",
      "52 is even number.\n",
      "2 is even number.\n",
      "4 is even number.\n",
      "6 is even number.\n",
      "11 is odd number\n",
      "14 is even number.\n",
      "17 is odd number\n",
      "20 is even number.\n"
     ]
    }
   ],
   "source": [
    "for i in list_of_numbers:\n",
    "    if i%2==0:\n",
    "        print(i,\"is even number.\")\n",
    "    else:\n",
    "        print(i,\"is odd number\")"
   ]
  },
  {
   "cell_type": "code",
   "execution_count": 21,
   "id": "0224d72d-bf40-4dc0-ab33-fea1c798a46c",
   "metadata": {},
   "outputs": [
    {
     "ename": "IndentationError",
     "evalue": "expected an indented block after 'if' statement on line 2 (4231930340.py, line 3)",
     "output_type": "error",
     "traceback": [
      "\u001b[1;36m  Cell \u001b[1;32mIn[21], line 3\u001b[1;36m\u001b[0m\n\u001b[1;33m    print(i)\u001b[0m\n\u001b[1;37m    ^\u001b[0m\n\u001b[1;31mIndentationError\u001b[0m\u001b[1;31m:\u001b[0m expected an indented block after 'if' statement on line 2\n"
     ]
    }
   ],
   "source": [
    "for i in range (1,21):\n",
    "    if i/2==0:\n",
    "    print(i)"
   ]
  },
  {
   "cell_type": "code",
   "execution_count": 19,
   "id": "cd09fe4e-b7cd-4c33-b85a-4626c4513835",
   "metadata": {},
   "outputs": [
    {
     "name": "stdout",
     "output_type": "stream",
     "text": [
      "[80, 52, 2, 4, 6, 14, 20]\n",
      "[1, 3, 5, 45, 33, 11, 17]\n"
     ]
    }
   ],
   "source": [
    "even = []\n",
    "odd = []\n",
    "for i in list_of_numbers:\n",
    "    if i%2==0:\n",
    "        even.append(i)\n",
    "    else:\n",
    "        odd.append(i)\n",
    "print(even)\n",
    "print(odd)\n",
    "        "
   ]
  },
  {
   "cell_type": "code",
   "execution_count": 27,
   "id": "c82749bb-d1ec-4bad-8b90-48098e65e32b",
   "metadata": {},
   "outputs": [
    {
     "name": "stdout",
     "output_type": "stream",
     "text": [
      "stark\n",
      "aryan\n",
      "baratheon\n",
      "tully\n",
      "greyjoy\n",
      "lannister\n",
      "tyrell\n",
      "martell\n",
      "targaryen\n"
     ]
    }
   ],
   "source": [
    "got_houses=['stark','aryan','baratheon','tully','greyjoy','lannister','tyrell','martell','targaryen']\n",
    "for i in got_houses:\n",
    "    print(i)"
   ]
  },
  {
   "cell_type": "code",
   "execution_count": null,
   "id": "db8c4e54-4854-4a57-afc1-35451d997176",
   "metadata": {},
   "outputs": [],
   "source": [
    "my_list = [0, True, \"Data Science\",5,5,14]\n",
    "print(my_list)\n",
    "print(list(enumerate(my_list)))\n",
    "for a,b in enumerate (my_list)"
   ]
  },
  {
   "cell_type": "code",
   "execution_count": 37,
   "id": "a7ce3745-0a5e-4620-b440-6089c7c16fd8",
   "metadata": {},
   "outputs": [
    {
     "name": "stdout",
     "output_type": "stream",
     "text": [
      "stark\n",
      "aryan\n",
      "baratheon\n",
      "tully\n",
      "greyjoy\n",
      "lannister\n",
      "tyrell\n",
      "targaryen\n"
     ]
    }
   ],
   "source": [
    "for i in got_houses:\n",
    "    if i == 'martell':\n",
    "        continue\n",
    "    print(i)\n",
    "        "
   ]
  },
  {
   "cell_type": "code",
   "execution_count": 41,
   "id": "8265f4e6-503a-4671-a477-4eab46ecd18e",
   "metadata": {},
   "outputs": [
    {
     "name": "stdout",
     "output_type": "stream",
     "text": [
      "red apple\n",
      "red banana\n",
      "red cherry\n",
      "green apple\n",
      "green banana\n",
      "green cherry\n",
      "brown apple\n",
      "brown banana\n",
      "brown cherry\n"
     ]
    }
   ],
   "source": [
    "color = ['red','green','brown']\n",
    "fruits =['apple','banana','cherry']\n",
    "for i in color:\n",
    "    for j in fruits:\n",
    "        print(i,j)"
   ]
  },
  {
   "cell_type": "code",
   "execution_count": 60,
   "id": "dd4b8c66-1b0b-45e5-ba8e-52cd6d3a114d",
   "metadata": {},
   "outputs": [
    {
     "name": "stdin",
     "output_type": "stream",
     "text": [
      "enter a number 2\n"
     ]
    },
    {
     "name": "stdout",
     "output_type": "stream",
     "text": [
      "['2']\n",
      ",\n"
     ]
    }
   ],
   "source": [
    "num=(input(\"enter a number\"))\n",
    "print([num])\n",
    "print(',')"
   ]
  },
  {
   "cell_type": "code",
   "execution_count": 57,
   "id": "d882356e-7582-4155-9ad3-aeb6b1d52700",
   "metadata": {},
   "outputs": [
    {
     "ename": "IndentationError",
     "evalue": "unexpected indent (333398708.py, line 3)",
     "output_type": "error",
     "traceback": [
      "\u001b[1;36m  Cell \u001b[1;32mIn[57], line 3\u001b[1;36m\u001b[0m\n\u001b[1;33m    for i in num:\u001b[0m\n\u001b[1;37m    ^\u001b[0m\n\u001b[1;31mIndentationError\u001b[0m\u001b[1;31m:\u001b[0m unexpected indent\n"
     ]
    }
   ],
   "source": [
    "list=[]\n",
    "num = int(input(\"enter a number\"))\n",
    "for i in range(num):\n",
    "    b = int(input(\"enter the elements\"))\n",
    "    list.append(b)\n",
    "list\n",
    "even=[]\n",
    "odd=[]"
   ]
  },
  {
   "cell_type": "code",
   "execution_count": 62,
   "id": "d753cb55-6e21-430f-ae1d-5030366c7911",
   "metadata": {},
   "outputs": [
    {
     "name": "stdin",
     "output_type": "stream",
     "text": [
      "enter the limit 10\n",
      "enter the elements 12\n",
      "enter the elements 12\n",
      "enter the elements 12\n",
      "enter the elements 121\n",
      "enter the elements 12\n",
      "enter the elements 12\n",
      "enter the elements 12\n",
      "enter the elements 12\n",
      "enter the elements 12\n",
      "enter the elements 12\n"
     ]
    }
   ],
   "source": [
    "list=[]\n",
    "a = int(input(\"enter the limit\"))\n",
    "for i in range(a):\n",
    "    b = int(input(\"enter the elements\"))\n",
    "    list.append(b)\n",
    "\n",
    "list\n",
    "even=[]\n",
    "odd=[]\n",
    "for i in list:\n",
    "    if i%2==0\n",
    "    even.append(i)\n",
    "    c=list.indeex(i)\n",
    "    even_index.append(c)\n",
    "\n",
    "print(list)\n",
    "print(even)\n"
   ]
  },
  {
   "cell_type": "code",
   "execution_count": 72,
   "id": "7c721745-2267-4400-a6e8-85181b9465f2",
   "metadata": {},
   "outputs": [
    {
     "name": "stdout",
     "output_type": "stream",
     "text": [
      "0\n",
      "1\n",
      "1\n",
      "2\n",
      "3\n",
      "5\n",
      "8\n",
      "13\n",
      "21\n",
      "34\n"
     ]
    }
   ],
   "source": [
    "n1=0\n",
    "n2=1\n",
    "a=10\n",
    "\n",
    "for i in range(a):\n",
    "    print(n1)\n",
    "    n3= n1+n2\n",
    "    n1= n2\n",
    "    n2=n3"
   ]
  },
  {
   "cell_type": "code",
   "execution_count": 76,
   "id": "0521242b-55c6-401d-9441-316c042523c3",
   "metadata": {},
   "outputs": [
    {
     "name": "stdout",
     "output_type": "stream",
     "text": [
      "before swap\n",
      "10 20\n",
      "20 10\n"
     ]
    }
   ],
   "source": [
    "a=10\n",
    "b=20\n",
    "print(\"before swap\")\n",
    "print(a,b)\n",
    "a,b=b,a\n",
    "print(\"before swap\")\n",
    "\n",
    "print(a,b)"
   ]
  },
  {
   "cell_type": "code",
   "execution_count": null,
   "id": "da5b51c2-7eeb-43a2-9ced-99efd5fe8f35",
   "metadata": {},
   "outputs": [],
   "source": []
  }
 ],
 "metadata": {
  "kernelspec": {
   "display_name": "Python 3 (ipykernel)",
   "language": "python",
   "name": "python3"
  },
  "language_info": {
   "codemirror_mode": {
    "name": "ipython",
    "version": 3
   },
   "file_extension": ".py",
   "mimetype": "text/x-python",
   "name": "python",
   "nbconvert_exporter": "python",
   "pygments_lexer": "ipython3",
   "version": "3.12.4"
  }
 },
 "nbformat": 4,
 "nbformat_minor": 5
}
