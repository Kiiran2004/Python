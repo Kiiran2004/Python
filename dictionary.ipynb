{
 "cells": [
  {
   "cell_type": "code",
   "execution_count": 1,
   "id": "c53837e1-7387-4379-b13e-65c7219b651d",
   "metadata": {},
   "outputs": [],
   "source": [
    "a={\"Kiran\",\"18\",\"Pune\"}"
   ]
  },
  {
   "cell_type": "code",
   "execution_count": 3,
   "id": "e26eb3fb-1cbe-4197-a102-952f7001d1f0",
   "metadata": {},
   "outputs": [
    {
     "name": "stdout",
     "output_type": "stream",
     "text": [
      "3\n"
     ]
    }
   ],
   "source": [
    "print(len(a))"
   ]
  },
  {
   "cell_type": "code",
   "execution_count": 19,
   "id": "93123023-3851-4058-bdae-a6c6df388f66",
   "metadata": {},
   "outputs": [
    {
     "data": {
      "text/plain": [
       "{'name': 'Kiran', 'age': 20, 'place': 'Pune'}"
      ]
     },
     "execution_count": 19,
     "metadata": {},
     "output_type": "execute_result"
    }
   ],
   "source": [
    "b={'name':'Kiran',\n",
    "   'age':20,\n",
    "   'place':\n",
    "   'Pune'}\n",
    "b"
   ]
  },
  {
   "cell_type": "code",
   "execution_count": 21,
   "id": "4bbab4a3-dc82-484e-b82c-c12eef9b91d3",
   "metadata": {},
   "outputs": [
    {
     "name": "stdout",
     "output_type": "stream",
     "text": [
      "{'name': 'Kiran', 'age': 20, 'place': 'Pune'}\n"
     ]
    }
   ],
   "source": [
    "print(b)"
   ]
  },
  {
   "cell_type": "code",
   "execution_count": 11,
   "id": "72c7dac7-584c-4736-8265-9558bfd93773",
   "metadata": {},
   "outputs": [
    {
     "data": {
      "text/plain": [
       "{'name': 'Kiran', 'age': 20, 'place': 'Pune'}"
      ]
     },
     "execution_count": 11,
     "metadata": {},
     "output_type": "execute_result"
    }
   ],
   "source": [
    "b"
   ]
  },
  {
   "cell_type": "code",
   "execution_count": 13,
   "id": "42b90947-f88a-4d2f-bd09-190bf2c461db",
   "metadata": {},
   "outputs": [
    {
     "data": {
      "text/plain": [
       "{'18', 'Kiran', 'Pune'}"
      ]
     },
     "execution_count": 13,
     "metadata": {},
     "output_type": "execute_result"
    }
   ],
   "source": [
    "a"
   ]
  },
  {
   "cell_type": "code",
   "execution_count": 29,
   "id": "543896f4-ee68-4fe4-80fa-dc385f743a02",
   "metadata": {},
   "outputs": [],
   "source": [
    "b.update({'State':'Maharashtra'})"
   ]
  },
  {
   "cell_type": "code",
   "execution_count": 31,
   "id": "c0ab0de8-d362-40a1-9c08-4f91d69d821b",
   "metadata": {},
   "outputs": [
    {
     "data": {
      "text/plain": [
       "{'name': 'Kiran', 'age': 20, 'place': 'Pune', 'State': 'Maharashtra'}"
      ]
     },
     "execution_count": 31,
     "metadata": {},
     "output_type": "execute_result"
    }
   ],
   "source": [
    "b"
   ]
  },
  {
   "cell_type": "code",
   "execution_count": 43,
   "id": "25d76db5-c9a8-40f3-a323-69a803472276",
   "metadata": {},
   "outputs": [
    {
     "data": {
      "text/plain": [
       "('State', 'Maharashtra')"
      ]
     },
     "execution_count": 43,
     "metadata": {},
     "output_type": "execute_result"
    }
   ],
   "source": [
    "b.popitem()"
   ]
  },
  {
   "cell_type": "code",
   "execution_count": 45,
   "id": "00c90f0d-840f-49ef-bdee-9338ff6846c0",
   "metadata": {},
   "outputs": [
    {
     "data": {
      "text/plain": [
       "{'name': 'Kiran', 'age': 20, 'place': 'Pune'}"
      ]
     },
     "execution_count": 45,
     "metadata": {},
     "output_type": "execute_result"
    }
   ],
   "source": [
    "b"
   ]
  },
  {
   "cell_type": "code",
   "execution_count": 47,
   "id": "b18699a0-6bfa-4cee-8b82-5e43532b070f",
   "metadata": {},
   "outputs": [
    {
     "data": {
      "text/plain": [
       "<function dict.pop>"
      ]
     },
     "execution_count": 47,
     "metadata": {},
     "output_type": "execute_result"
    }
   ],
   "source": [
    "b.pop"
   ]
  }
 ],
 "metadata": {
  "kernelspec": {
   "display_name": "Python 3 (ipykernel)",
   "language": "python",
   "name": "python3"
  },
  "language_info": {
   "codemirror_mode": {
    "name": "ipython",
    "version": 3
   },
   "file_extension": ".py",
   "mimetype": "text/x-python",
   "name": "python",
   "nbconvert_exporter": "python",
   "pygments_lexer": "ipython3",
   "version": "3.12.4"
  }
 },
 "nbformat": 4,
 "nbformat_minor": 5
}
