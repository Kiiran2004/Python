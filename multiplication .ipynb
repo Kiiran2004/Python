{
 "cells": [
  {
   "cell_type": "code",
   "execution_count": 6,
   "id": "93460d40",
   "metadata": {},
   "outputs": [
    {
     "name": "stdout",
     "output_type": "stream",
     "text": [
      "enter num100\n",
      "100 200 300 400 500 600 700 800 900 1000\n"
     ]
    }
   ],
   "source": [
    "num = input('enter num')\n",
    "num = int(num)\n",
    "print(num*1, num*2, num*3, num*4, num*5, num*6, num*7, num*8, num*9, num*10)"
   ]
  },
  {
   "cell_type": "code",
   "execution_count": null,
   "id": "6eec86ca",
   "metadata": {},
   "outputs": [],
   "source": []
  },
  {
   "cell_type": "code",
   "execution_count": null,
   "id": "550ce5f9",
   "metadata": {},
   "outputs": [],
   "source": []
  }
 ],
 "metadata": {
  "kernelspec": {
   "display_name": "Python 3 (ipykernel)",
   "language": "python",
   "name": "python3"
  },
  "language_info": {
   "codemirror_mode": {
    "name": "ipython",
    "version": 3
   },
   "file_extension": ".py",
   "mimetype": "text/x-python",
   "name": "python",
   "nbconvert_exporter": "python",
   "pygments_lexer": "ipython3",
   "version": "3.11.7"
  }
 },
 "nbformat": 4,
 "nbformat_minor": 5
}
