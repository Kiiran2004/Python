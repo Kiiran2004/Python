{
 "cells": [
  {
   "cell_type": "code",
   "execution_count": 1,
   "id": "7ab75b8a-87f1-4705-a3ab-73bc282015b8",
   "metadata": {},
   "outputs": [],
   "source": [
    "a=2\n",
    "b=2"
   ]
  },
  {
   "cell_type": "code",
   "execution_count": 3,
   "id": "6941baf4-7310-49fd-8f5c-73896d1ff35d",
   "metadata": {},
   "outputs": [
    {
     "data": {
      "text/plain": [
       "4"
      ]
     },
     "execution_count": 3,
     "metadata": {},
     "output_type": "execute_result"
    }
   ],
   "source": [
    "a+b"
   ]
  },
  {
   "cell_type": "code",
   "execution_count": 5,
   "id": "1042e657-a352-4e74-b37e-1a5a92028d79",
   "metadata": {},
   "outputs": [
    {
     "data": {
      "text/plain": [
       "0"
      ]
     },
     "execution_count": 5,
     "metadata": {},
     "output_type": "execute_result"
    }
   ],
   "source": [
    "a-b"
   ]
  },
  {
   "cell_type": "code",
   "execution_count": 7,
   "id": "1252badc-9e73-4b32-bcf5-2555e3c2e4a3",
   "metadata": {},
   "outputs": [
    {
     "data": {
      "text/plain": [
       "4"
      ]
     },
     "execution_count": 7,
     "metadata": {},
     "output_type": "execute_result"
    }
   ],
   "source": [
    "a*b"
   ]
  },
  {
   "cell_type": "code",
   "execution_count": 9,
   "id": "7f4938aa-5648-42e0-aee8-f934cbfb1e43",
   "metadata": {},
   "outputs": [
    {
     "data": {
      "text/plain": [
       "1.0"
      ]
     },
     "execution_count": 9,
     "metadata": {},
     "output_type": "execute_result"
    }
   ],
   "source": [
    "a/b"
   ]
  },
  {
   "cell_type": "code",
   "execution_count": 11,
   "id": "f72dabea-e9ca-4563-bd7f-8974e483236e",
   "metadata": {},
   "outputs": [
    {
     "data": {
      "text/plain": [
       "4"
      ]
     },
     "execution_count": 11,
     "metadata": {},
     "output_type": "execute_result"
    }
   ],
   "source": [
    "a**b"
   ]
  },
  {
   "cell_type": "code",
   "execution_count": 13,
   "id": "a901ac4b-4b60-472f-8ed0-0746850944d0",
   "metadata": {},
   "outputs": [
    {
     "data": {
      "text/plain": [
       "0"
      ]
     },
     "execution_count": 13,
     "metadata": {},
     "output_type": "execute_result"
    }
   ],
   "source": [
    "a%b"
   ]
  },
  {
   "cell_type": "code",
   "execution_count": 15,
   "id": "1552bd2e-6909-4ff1-9781-5bed55edbb63",
   "metadata": {},
   "outputs": [
    {
     "data": {
      "text/plain": [
       "1"
      ]
     },
     "execution_count": 15,
     "metadata": {},
     "output_type": "execute_result"
    }
   ],
   "source": [
    "a//b"
   ]
  },
  {
   "cell_type": "code",
   "execution_count": 17,
   "id": "e6f1f807-b511-497a-97bc-18dc56ff9d81",
   "metadata": {},
   "outputs": [
    {
     "name": "stdout",
     "output_type": "stream",
     "text": [
      "<class 'int'>\n",
      "<class 'float'>\n",
      "<class 'bool'>\n",
      "<class 'str'>\n"
     ]
    }
   ],
   "source": [
    "a=1\n",
    "b=1.1\n",
    "c = True\n",
    "d = 'hello'\n",
    "\n",
    "print(type(a))\n",
    "print(type(b))\n",
    "print(type(c))\n",
    "print(type(d))"
   ]
  },
  {
   "cell_type": "code",
   "execution_count": 23,
   "id": "553b1b70-18d8-4d93-8f8e-ffae3e6cc972",
   "metadata": {},
   "outputs": [
    {
     "name": "stdout",
     "output_type": "stream",
     "text": [
      "13\n"
     ]
    }
   ],
   "source": [
    "a='Kiran Panikar'\n",
    "print(len(a))"
   ]
  },
  {
   "cell_type": "code",
   "execution_count": 27,
   "id": "c1617922-b2f9-44dc-b463-9150cd95a13c",
   "metadata": {},
   "outputs": [
    {
     "data": {
      "text/plain": [
       "'m'"
      ]
     },
     "execution_count": 27,
     "metadata": {},
     "output_type": "execute_result"
    }
   ],
   "source": [
    "a= 'my name is Kiran Panikar'\n",
    "a[5]"
   ]
  },
  {
   "cell_type": "code",
   "execution_count": 37,
   "id": "ef74058a-8ba1-462d-b9b3-a3565d25b33c",
   "metadata": {},
   "outputs": [
    {
     "data": {
      "text/plain": [
       "'Kiran'"
      ]
     },
     "execution_count": 37,
     "metadata": {},
     "output_type": "execute_result"
    }
   ],
   "source": [
    "a= 'my name is Kiran Panikar'\n",
    "a[11:16]"
   ]
  },
  {
   "cell_type": "code",
   "execution_count": 41,
   "id": "caf645c8-8468-4104-a08b-c20a0d586c0b",
   "metadata": {},
   "outputs": [
    {
     "name": "stdout",
     "output_type": "stream",
     "text": [
      "['Kiran', 'sahil', 'shubham', 'aryan', 'sanket']\n"
     ]
    }
   ],
   "source": [
    "a=['Kiran', 'sahil', 'shubham', 'aryan', 'sanket']\n",
    "print(a)"
   ]
  },
  {
   "cell_type": "code",
   "execution_count": 45,
   "id": "536e4d32-d828-41f3-910e-32f87e91dc0e",
   "metadata": {},
   "outputs": [
    {
     "data": {
      "text/plain": [
       "'Kiran'"
      ]
     },
     "execution_count": 45,
     "metadata": {},
     "output_type": "execute_result"
    }
   ],
   "source": [
    "a[0]\n"
   ]
  },
  {
   "cell_type": "code",
   "execution_count": 47,
   "id": "3eb82420-7682-4d15-a42f-c96e83537f15",
   "metadata": {},
   "outputs": [
    {
     "name": "stdout",
     "output_type": "stream",
     "text": [
      "5\n"
     ]
    }
   ],
   "source": [
    "print(len(a))"
   ]
  },
  {
   "cell_type": "code",
   "execution_count": 51,
   "id": "3a646ba1-75e1-42c2-9b6b-cbd50aed1582",
   "metadata": {},
   "outputs": [
    {
     "name": "stdout",
     "output_type": "stream",
     "text": [
      "<class 'list'>\n"
     ]
    }
   ],
   "source": [
    "print(type(a))"
   ]
  },
  {
   "cell_type": "code",
   "execution_count": 53,
   "id": "a4bd9051-7c4a-42e9-a1e5-1d9273c9427c",
   "metadata": {},
   "outputs": [
    {
     "data": {
      "text/plain": [
       "'sahil'"
      ]
     },
     "execution_count": 53,
     "metadata": {},
     "output_type": "execute_result"
    }
   ],
   "source": [
    "a[1]"
   ]
  },
  {
   "cell_type": "code",
   "execution_count": 55,
   "id": "746848c2-d01a-4f93-a332-90efcda8f968",
   "metadata": {},
   "outputs": [
    {
     "data": {
      "text/plain": [
       "['Kiran', 'sahil', 'shubham']"
      ]
     },
     "execution_count": 55,
     "metadata": {},
     "output_type": "execute_result"
    }
   ],
   "source": [
    "a[0:3]"
   ]
  },
  {
   "cell_type": "code",
   "execution_count": 65,
   "id": "719281cc-ad79-48f4-9371-b47616b735fd",
   "metadata": {},
   "outputs": [
    {
     "data": {
      "text/plain": [
       "['shubham', 'aryan', 'sanket']"
      ]
     },
     "execution_count": 65,
     "metadata": {},
     "output_type": "execute_result"
    }
   ],
   "source": [
    "a[2:]"
   ]
  },
  {
   "cell_type": "code",
   "execution_count": 83,
   "id": "1a4a8913-2d00-4749-b0b1-bf5c8f08b669",
   "metadata": {},
   "outputs": [
    {
     "name": "stdout",
     "output_type": "stream",
     "text": [
      "['one', 'two', 'three', 'four']\n"
     ]
    }
   ],
   "source": [
    "numbers=['one','two','three','four']\n",
    "print(numbers)"
   ]
  },
  {
   "cell_type": "code",
   "execution_count": 85,
   "id": "521f6df4-2f21-42eb-bf42-67ad2a004012",
   "metadata": {},
   "outputs": [],
   "source": [
    "numbers.append('five')"
   ]
  },
  {
   "cell_type": "code",
   "execution_count": 87,
   "id": "6fbb89df-c911-4482-983d-c3c9941371fd",
   "metadata": {},
   "outputs": [
    {
     "name": "stdout",
     "output_type": "stream",
     "text": [
      "['one', 'two', 'three', 'four', 'five']\n"
     ]
    }
   ],
   "source": [
    "print(numbers)"
   ]
  },
  {
   "cell_type": "code",
   "execution_count": 91,
   "id": "13d4f552-6fbd-45a3-8e8c-3f1b1ed3b3d6",
   "metadata": {},
   "outputs": [],
   "source": [
    "numbers.append(\"1,2,3,4,5\")"
   ]
  },
  {
   "cell_type": "code",
   "execution_count": 93,
   "id": "71496de4-5123-43b0-b846-974dc2bae60e",
   "metadata": {},
   "outputs": [
    {
     "name": "stdout",
     "output_type": "stream",
     "text": [
      "['one', 'two', 'three', 'four', 'five', '1,2,3,4,5']\n"
     ]
    }
   ],
   "source": [
    "print(numbers)"
   ]
  },
  {
   "cell_type": "code",
   "execution_count": 97,
   "id": "f21b3f4c-e684-4dd8-9297-36294d7ef68e",
   "metadata": {},
   "outputs": [],
   "source": [
    "numbers.insert(5,'six')"
   ]
  },
  {
   "cell_type": "code",
   "execution_count": 99,
   "id": "73095809-2ca9-4aa6-bd31-e2fdb4335a2b",
   "metadata": {},
   "outputs": [
    {
     "name": "stdout",
     "output_type": "stream",
     "text": [
      "['one', 'two', 'three', 'four', 'five', 'six', '1,2,3,4,5']\n"
     ]
    }
   ],
   "source": [
    "print(numbers)"
   ]
  },
  {
   "cell_type": "code",
   "execution_count": 101,
   "id": "577822bd-e257-45a3-9dd3-aa15a40b5888",
   "metadata": {},
   "outputs": [
    {
     "name": "stdout",
     "output_type": "stream",
     "text": [
      "['one', 'two', 'three', 'four', 'five', 'six', '1,2,3,4,5', 6]\n"
     ]
    }
   ],
   "source": [
    "numbers.extend([6])\n",
    "print(numbers)"
   ]
  },
  {
   "cell_type": "code",
   "execution_count": 103,
   "id": "9eb91ef4-a813-4c2b-a5dd-94ccfecbde23",
   "metadata": {},
   "outputs": [],
   "source": [
    "numbers.remove('1,2,3,4,5')"
   ]
  },
  {
   "cell_type": "code",
   "execution_count": 105,
   "id": "4cc6b471-4b38-4f1e-8755-291179612b3c",
   "metadata": {},
   "outputs": [
    {
     "name": "stdout",
     "output_type": "stream",
     "text": [
      "['one', 'two', 'three', 'four', 'five', 'six', 6]\n"
     ]
    }
   ],
   "source": [
    "print(numbers)"
   ]
  },
  {
   "cell_type": "code",
   "execution_count": 107,
   "id": "d2ddf7f0-b1f5-4e20-9886-71084c123632",
   "metadata": {},
   "outputs": [
    {
     "data": {
      "text/plain": [
       "'six'"
      ]
     },
     "execution_count": 107,
     "metadata": {},
     "output_type": "execute_result"
    }
   ],
   "source": [
    "numbers.pop(5)"
   ]
  },
  {
   "cell_type": "code",
   "execution_count": 109,
   "id": "25ceeb7e-a945-4a1b-97a0-16bdba829565",
   "metadata": {},
   "outputs": [
    {
     "name": "stdout",
     "output_type": "stream",
     "text": [
      "['one', 'two', 'three', 'four', 'five', 6]\n"
     ]
    }
   ],
   "source": [
    "print(numbers)"
   ]
  },
  {
   "cell_type": "code",
   "execution_count": 115,
   "id": "2396f9e7-ac8d-4841-950e-54eee1a881b0",
   "metadata": {},
   "outputs": [],
   "source": [
    "numbers.clear()"
   ]
  },
  {
   "cell_type": "code",
   "execution_count": 117,
   "id": "f47783a2-bdf3-46df-9924-64cf762d35f5",
   "metadata": {},
   "outputs": [
    {
     "name": "stdout",
     "output_type": "stream",
     "text": [
      "[]\n"
     ]
    }
   ],
   "source": [
    "print(numbers)"
   ]
  },
  {
   "cell_type": "code",
   "execution_count": 3,
   "id": "e2075c83-41aa-40d0-aedf-06e5a064038f",
   "metadata": {},
   "outputs": [],
   "source": [
    "def multiply():\n",
    "    a=1\n",
    "    b=2\n",
    "    c=3\n",
    "    result=a*b*c\n",
    "    print(f\"multiplication of {a},{b} and {c} is {result}\")\n",
    "    print(\"I am a student of Data science\")\n",
    "    print(\"I live in Pune\")\n",
    "    d = a*b\n",
    "    print(f\"multiplication of {a} and {b} is {d}\")"
   ]
  },
  {
   "cell_type": "code",
   "execution_count": 5,
   "id": "16c02e9c-b835-46c3-a4c2-90cb07bbaa38",
   "metadata": {},
   "outputs": [
    {
     "name": "stdout",
     "output_type": "stream",
     "text": [
      "multiplication of 1,2 and 3 is 6\n",
      "I am a student of Data science\n",
      "I live in Pune\n",
      "multiplication of 1 and 2 is 2\n"
     ]
    }
   ],
   "source": [
    "multiply()"
   ]
  },
  {
   "cell_type": "code",
   "execution_count": 9,
   "id": "5777fdcf-8088-4109-b9f1-5a04a6e43718",
   "metadata": {},
   "outputs": [],
   "source": [
    "def add():\n",
    "    a=1\n",
    "    b=2\n",
    "    c=3\n",
    "    d=a+b+c\n",
    "    print(\"addition of numbers are\")\n",
    "    print(d)\n",
    "    "
   ]
  },
  {
   "cell_type": "code",
   "execution_count": 14,
   "id": "317b8999-82e1-4f69-8d9b-e065501bf717",
   "metadata": {},
   "outputs": [
    {
     "name": "stdout",
     "output_type": "stream",
     "text": [
      "addition of numbers are\n",
      "6\n"
     ]
    }
   ],
   "source": [
    "add()"
   ]
  },
  {
   "cell_type": "code",
   "execution_count": 16,
   "id": "224b9f54-45b5-4c8b-b41e-956cc1f91faf",
   "metadata": {},
   "outputs": [],
   "source": [
    "def sub():\n",
    "    a=1\n",
    "    c=3\n",
    "    d=a-c\n",
    "    print(\"subtraction of numbers are\")\n",
    "    print(d)\n",
    "    "
   ]
  },
  {
   "cell_type": "code",
   "execution_count": 18,
   "id": "5454d8ca-79cf-4dc8-99ec-da9abb3bcd85",
   "metadata": {},
   "outputs": [
    {
     "name": "stdout",
     "output_type": "stream",
     "text": [
      "subtraction of numbers are\n",
      "-2\n"
     ]
    }
   ],
   "source": [
    "sub()"
   ]
  },
  {
   "cell_type": "code",
   "execution_count": 20,
   "id": "0d6efb96-cec6-4d5c-872b-5bf438e76d97",
   "metadata": {},
   "outputs": [],
   "source": [
    "def multi():\n",
    "    a=1\n",
    "    c=3\n",
    "    d=a*c\n",
    "    print(\"multiplication of numbers are\")\n",
    "    print(d)\n",
    "    "
   ]
  },
  {
   "cell_type": "code",
   "execution_count": 22,
   "id": "394d894b-31f6-4e33-b7db-7d8c297f782a",
   "metadata": {},
   "outputs": [
    {
     "name": "stdout",
     "output_type": "stream",
     "text": [
      "multiplication of numbers are\n",
      "3\n"
     ]
    }
   ],
   "source": [
    "multi()"
   ]
  },
  {
   "cell_type": "code",
   "execution_count": 30,
   "id": "bae6680d-9bd4-4e52-8b01-075cf77ca78d",
   "metadata": {},
   "outputs": [],
   "source": [
    "def div():\n",
    "    a=1\n",
    "    c=3\n",
    "    d=a/c\n",
    "    print(\"division of numbers are\")\n",
    "    print(d)\n",
    "    "
   ]
  },
  {
   "cell_type": "code",
   "execution_count": 32,
   "id": "c9149129-68b4-44f6-a303-8dbaa0ade59c",
   "metadata": {},
   "outputs": [
    {
     "name": "stdout",
     "output_type": "stream",
     "text": [
      "division of numbers are\n",
      "0.3333333333333333\n"
     ]
    }
   ],
   "source": [
    "div()"
   ]
  },
  {
   "cell_type": "code",
   "execution_count": 35,
   "id": "098b2ca2-22a7-4778-8620-c067802dde83",
   "metadata": {},
   "outputs": [
    {
     "name": "stdin",
     "output_type": "stream",
     "text": [
      "enter a number 2\n"
     ]
    },
    {
     "name": "stdout",
     "output_type": "stream",
     "text": [
      "0\n",
      "2\n",
      "4\n",
      "6\n",
      "8\n",
      "10\n",
      "12\n",
      "14\n",
      "16\n",
      "18\n",
      "20\n"
     ]
    }
   ],
   "source": [
    "a=int(input(\"enter a number\"))\n",
    "for i in range(0,11):\n",
    "    c=a*i\n",
    "    print(c)"
   ]
  },
  {
   "cell_type": "code",
   "execution_count": 104,
   "id": "77d39657-4ddc-452b-9b1d-41d276525943",
   "metadata": {},
   "outputs": [
    {
     "name": "stdout",
     "output_type": "stream",
     "text": [
      "\n",
      " 1. add\n",
      "\n",
      " 2. sub\n",
      "\n",
      " 3. multi\n",
      "\n",
      " 4. division\n"
     ]
    },
    {
     "name": "stdin",
     "output_type": "stream",
     "text": [
      "select operation 4\n",
      "\n",
      " enter first number 25\n",
      "\n",
      " enter second number 25\n"
     ]
    },
    {
     "name": "stdout",
     "output_type": "stream",
     "text": [
      "the division of number =\n",
      "1.0\n"
     ]
    }
   ],
   "source": [
    "print(\"\\n 1. add\")\n",
    "print(\"\\n 2. sub\")\n",
    "print(\"\\n 3. multi\")\n",
    "print(\"\\n 4. division\")\n",
    "a=int(input(\"select operation\"))\n",
    "if a == 1:\n",
    "    b = int(input(\"\\n enter first number\"))\n",
    "    c = int(input(\"\\n enter second number\"))\n",
    "    print(\"the Addition of number =\")\n",
    "    print(b + c)\n",
    "    \n",
    "\n",
    "if a == 2:\n",
    "    d = int(input(\"\\n enter first number\"))\n",
    "    e = int(input(\"\\n enter second number\"))\n",
    "    print(\"the subtraction of number =\")\n",
    "    print(d - e)\n",
    "\n",
    "if a == 3:\n",
    "    f = int(input(\"\\n enter first number\"))\n",
    "    g = int(input(\"\\n enter second number\"))\n",
    "    print(\"the multiplication of number =\")\n",
    "    print(f * g)\n",
    "\n",
    "if a == 4:\n",
    "    h = int(input(\"\\n enter first number\"))\n",
    "    i = int(input(\"\\n enter second number\"))\n",
    "    print(\"the division of number =\")\n",
    "    print(h / i)"
   ]
  },
  {
   "cell_type": "code",
   "execution_count": 108,
   "id": "c0106a6a-f495-4a2c-bd5d-c09bd886ebf1",
   "metadata": {},
   "outputs": [
    {
     "name": "stdout",
     "output_type": "stream",
     "text": [
      "[(0, 'a'), (1, 'b'), (2, 'c')]\n"
     ]
    }
   ],
   "source": [
    "mylist = ['a','b','c']\n",
    "print(list(enumerate(mylist)))"
   ]
  },
  {
   "cell_type": "code",
   "execution_count": 112,
   "id": "df95cd2f-1ac9-4b0c-889d-e23b64cdd8bc",
   "metadata": {},
   "outputs": [
    {
     "name": "stdout",
     "output_type": "stream",
     "text": [
      "3\n"
     ]
    }
   ],
   "source": [
    "def addition(a,b):\n",
    "    c=a+b\n",
    "    print(c)\n",
    "addition(1,2)"
   ]
  },
  {
   "cell_type": "code",
   "execution_count": 116,
   "id": "2fbcf5d8-b2b3-451b-a8be-da26a500a2a0",
   "metadata": {},
   "outputs": [
    {
     "name": "stdout",
     "output_type": "stream",
     "text": [
      "-1\n",
      "my name is Kiran\n"
     ]
    }
   ],
   "source": [
    "def subtraction(a,b):\n",
    "    c=a-b\n",
    "    print(c)\n",
    "subtraction(1,2)\n",
    "print(\"my name is Kiran\")"
   ]
  },
  {
   "cell_type": "code",
   "execution_count": 3,
   "id": "2e0b3289-35d1-425d-8b7b-74d15fdaab77",
   "metadata": {},
   "outputs": [
    {
     "name": "stdout",
     "output_type": "stream",
     "text": [
      "Hello Kiran, Good evening \n"
     ]
    }
   ],
   "source": [
    "def greet(name, msg):\n",
    "    print(f\"Hello {name}, {msg} \")\n",
    "greet(\"Kiran\",\"Good evening\")"
   ]
  },
  {
   "cell_type": "code",
   "execution_count": 12,
   "id": "4c94db9c-2b2d-4c7e-9c6c-98f6df136144",
   "metadata": {},
   "outputs": [
    {
     "name": "stdout",
     "output_type": "stream",
     "text": [
      "[1, 2, 3, 4, 5]\n"
     ]
    }
   ],
   "source": [
    "my_list=[1,2,3,4,5]\n",
    "print(my_list)"
   ]
  },
  {
   "cell_type": "code",
   "execution_count": 24,
   "id": "9c69c954-f365-4611-9c83-7cbb8a827b79",
   "metadata": {},
   "outputs": [
    {
     "name": "stdout",
     "output_type": "stream",
     "text": [
      "None\n"
     ]
    }
   ],
   "source": [
    "print(my_list.append(2))"
   ]
  },
  {
   "cell_type": "code",
   "execution_count": 26,
   "id": "b13740b0-f57f-42a0-8f9c-ee8952c62284",
   "metadata": {},
   "outputs": [
    {
     "name": "stdout",
     "output_type": "stream",
     "text": [
      "[1, 2, 3, 4, 5, 1, 2, 2]\n"
     ]
    }
   ],
   "source": [
    "print(my_list)"
   ]
  },
  {
   "cell_type": "code",
   "execution_count": 28,
   "id": "104c3a17-bd2d-450a-b3f9-7a7731fce081",
   "metadata": {},
   "outputs": [
    {
     "name": "stdout",
     "output_type": "stream",
     "text": [
      "8\n"
     ]
    }
   ],
   "source": [
    "print(len(my_list))"
   ]
  },
  {
   "cell_type": "code",
   "execution_count": 40,
   "id": "874c5da5-acb6-4c41-93eb-d03a6bc7c557",
   "metadata": {},
   "outputs": [],
   "source": [
    "my_list.insert(1,2)"
   ]
  },
  {
   "cell_type": "code",
   "execution_count": 42,
   "id": "9b8393dd-dfe5-44ac-bff2-6bd7f3f7e56a",
   "metadata": {},
   "outputs": [
    {
     "name": "stdout",
     "output_type": "stream",
     "text": [
      "[1, 2, 2, 2, 3, 4, 5, 1, 2, 2]\n"
     ]
    }
   ],
   "source": [
    "print(my_list)"
   ]
  },
  {
   "cell_type": "code",
   "execution_count": 44,
   "id": "83a880ed-885c-4a85-8b64-5c03f5768012",
   "metadata": {},
   "outputs": [],
   "source": [
    "my_list.insert(4,5)"
   ]
  },
  {
   "cell_type": "code",
   "execution_count": 50,
   "id": "1275d82c-42e1-49b7-b020-7266a2c4cc17",
   "metadata": {},
   "outputs": [
    {
     "name": "stdout",
     "output_type": "stream",
     "text": [
      "[1, 2, 2, 2, 5, 3, 4, 5, 1, 2, 2]\n"
     ]
    }
   ],
   "source": [
    "print(my_list)"
   ]
  },
  {
   "cell_type": "code",
   "execution_count": 62,
   "id": "13338e19-c598-4af2-9dd8-b7d98ca6f796",
   "metadata": {},
   "outputs": [],
   "source": [
    "list=[\"a\",\"b\",\"c\"]"
   ]
  },
  {
   "cell_type": "code",
   "execution_count": 64,
   "id": "44b8a32b-f863-4dcf-a128-139dd06f4df1",
   "metadata": {},
   "outputs": [],
   "source": [
    "my_list.extend(list)"
   ]
  },
  {
   "cell_type": "code",
   "execution_count": 66,
   "id": "017b6bb8-bb3d-44e8-ab74-51f0b31e52b5",
   "metadata": {},
   "outputs": [
    {
     "name": "stdout",
     "output_type": "stream",
     "text": [
      "[1, 2, 2, 2, 5, 3, 4, 5, 1, 2, 2, 'a', 'b', 'c']\n"
     ]
    }
   ],
   "source": [
    "print(my_list)"
   ]
  },
  {
   "cell_type": "code",
   "execution_count": 74,
   "id": "3dd73f41-89da-48bf-96fe-522bc60afc69",
   "metadata": {},
   "outputs": [
    {
     "data": {
      "text/plain": [
       "<function list.clear()>"
      ]
     },
     "execution_count": 74,
     "metadata": {},
     "output_type": "execute_result"
    }
   ],
   "source": [
    "my_list.clear"
   ]
  },
  {
   "cell_type": "code",
   "execution_count": 76,
   "id": "4e5730a3-7631-4935-98fc-74b27a24ba51",
   "metadata": {},
   "outputs": [
    {
     "name": "stdout",
     "output_type": "stream",
     "text": [
      "[1, 2, 2, 2, 5, 3, 4, 5, 1, 2, 2, 'a', 'b', 'c']\n"
     ]
    }
   ],
   "source": [
    "print(my_list)"
   ]
  },
  {
   "cell_type": "code",
   "execution_count": 78,
   "id": "f60c03c2-4143-492a-b515-20f58dcfa465",
   "metadata": {},
   "outputs": [],
   "source": [
    "my_list.remove(3)"
   ]
  },
  {
   "cell_type": "code",
   "execution_count": 80,
   "id": "76c68d47-1ff5-437e-bbf2-b8c05dabc660",
   "metadata": {},
   "outputs": [
    {
     "name": "stdout",
     "output_type": "stream",
     "text": [
      "[1, 2, 2, 2, 5, 4, 5, 1, 2, 2, 'a', 'b', 'c']\n"
     ]
    }
   ],
   "source": [
    "print(my_list)"
   ]
  },
  {
   "cell_type": "code",
   "execution_count": 82,
   "id": "500d937c-7c29-41a2-bb7d-fd243a7b0aae",
   "metadata": {},
   "outputs": [],
   "source": [
    "my_list.clear()"
   ]
  },
  {
   "cell_type": "code",
   "execution_count": 84,
   "id": "f329d23e-fbce-4700-9f83-1020ae4d2f4e",
   "metadata": {},
   "outputs": [
    {
     "name": "stdout",
     "output_type": "stream",
     "text": [
      "[]\n"
     ]
    }
   ],
   "source": [
    "print(my_list)"
   ]
  },
  {
   "cell_type": "code",
   "execution_count": 102,
   "id": "13e28131-316d-4165-b3ac-556513f24996",
   "metadata": {},
   "outputs": [
    {
     "name": "stdout",
     "output_type": "stream",
     "text": [
      "['a', 'b', 'c', 'd', 'e', 'f', 'g']\n"
     ]
    }
   ],
   "source": [
    "print(list)"
   ]
  },
  {
   "cell_type": "code",
   "execution_count": 96,
   "id": "51f34dd7-e219-4d8a-a1fc-20a82d3fc9b2",
   "metadata": {},
   "outputs": [],
   "source": [
    "list.extend('d')"
   ]
  },
  {
   "cell_type": "code",
   "execution_count": 100,
   "id": "1f826cc2-ce1c-42da-8af2-7e550460046d",
   "metadata": {},
   "outputs": [],
   "source": [
    "list.extend('e''f''g')"
   ]
  },
  {
   "cell_type": "code",
   "execution_count": 110,
   "id": "8be8fd96-377a-4d91-a94b-863a9a7ef53e",
   "metadata": {},
   "outputs": [
    {
     "name": "stdout",
     "output_type": "stream",
     "text": [
      "['b', 'c', 'd']\n"
     ]
    }
   ],
   "source": [
    "print(list[1:4])"
   ]
  },
  {
   "cell_type": "code",
   "execution_count": 112,
   "id": "9109f643-1c4a-4338-b1bf-201ced282532",
   "metadata": {},
   "outputs": [
    {
     "data": {
      "text/plain": [
       "False"
      ]
     },
     "execution_count": 112,
     "metadata": {},
     "output_type": "execute_result"
    }
   ],
   "source": [
    "a=25\n",
    "b=5\n",
    "a is b"
   ]
  },
  {
   "cell_type": "code",
   "execution_count": 114,
   "id": "6b4e34b6-db4b-4822-b2ab-4a851d9fd2e2",
   "metadata": {},
   "outputs": [
    {
     "data": {
      "text/plain": [
       "True"
      ]
     },
     "execution_count": 114,
     "metadata": {},
     "output_type": "execute_result"
    }
   ],
   "source": [
    "a=25\n",
    "b=5\n",
    "a is not b"
   ]
  },
  {
   "cell_type": "code",
   "execution_count": 118,
   "id": "c9265e56-9cbb-4e77-acc2-d06747d36eb9",
   "metadata": {},
   "outputs": [
    {
     "data": {
      "text/plain": [
       "True"
      ]
     },
     "execution_count": 118,
     "metadata": {},
     "output_type": "execute_result"
    }
   ],
   "source": [
    "a=[1,2,3,4,5]\n",
    "2 in a"
   ]
  },
  {
   "cell_type": "code",
   "execution_count": 120,
   "id": "13435312-7462-428e-9a00-b678919a2875",
   "metadata": {},
   "outputs": [
    {
     "data": {
      "text/plain": [
       "False"
      ]
     },
     "execution_count": 120,
     "metadata": {},
     "output_type": "execute_result"
    }
   ],
   "source": [
    "a=[1,2,3,4,5]\n",
    "2 not in a"
   ]
  },
  {
   "cell_type": "code",
   "execution_count": 126,
   "id": "f2aa0ded-eb87-4381-946b-68014224e0dc",
   "metadata": {},
   "outputs": [
    {
     "name": "stdout",
     "output_type": "stream",
     "text": [
      "3\n"
     ]
    }
   ],
   "source": [
    "b=lambda c:c+2\n",
    "\n",
    "print(b(1))"
   ]
  },
  {
   "cell_type": "code",
   "execution_count": 128,
   "id": "8508fad2-8dd9-4aa3-96b2-259d67798856",
   "metadata": {},
   "outputs": [
    {
     "ename": "NameError",
     "evalue": "name 'filtered_evenr_list' is not defined",
     "output_type": "error",
     "traceback": [
      "\u001b[1;31m---------------------------------------------------------------------------\u001b[0m",
      "\u001b[1;31mNameError\u001b[0m                                 Traceback (most recent call last)",
      "Cell \u001b[1;32mIn[128], line 8\u001b[0m\n\u001b[0;32m      6\u001b[0m     \u001b[38;5;28;01mreturn\u001b[39;00m filtered_even_lidt\n\u001b[0;32m      7\u001b[0m a\u001b[38;5;241m=\u001b[39m[\u001b[38;5;241m1\u001b[39m,\u001b[38;5;241m2\u001b[39m,\u001b[38;5;241m3\u001b[39m,\u001b[38;5;241m4\u001b[39m,\u001b[38;5;241m5\u001b[39m,\u001b[38;5;241m6\u001b[39m]\n\u001b[1;32m----> 8\u001b[0m \u001b[43mget_even\u001b[49m\u001b[43m(\u001b[49m\u001b[43ma\u001b[49m\u001b[43m)\u001b[49m\n\u001b[0;32m     10\u001b[0m b\u001b[38;5;241m=\u001b[39m \u001b[38;5;28mlist\u001b[39m(\u001b[38;5;28mfilter\u001b[39m(\u001b[38;5;28;01mlambda\u001b[39;00m x:x\u001b[38;5;241m%\u001b[39m\u001b[38;5;241m2\u001b[39m\u001b[38;5;241m==\u001b[39m\u001b[38;5;241m0\u001b[39m))\n\u001b[0;32m     11\u001b[0m primt(b)\n",
      "Cell \u001b[1;32mIn[128], line 5\u001b[0m, in \u001b[0;36mget_even\u001b[1;34m(mylist)\u001b[0m\n\u001b[0;32m      3\u001b[0m \u001b[38;5;28;01mfor\u001b[39;00m i \u001b[38;5;129;01min\u001b[39;00m mylist:\n\u001b[0;32m      4\u001b[0m     \u001b[38;5;28;01mif\u001b[39;00m i\u001b[38;5;241m%\u001b[39m\u001b[38;5;241m2\u001b[39m \u001b[38;5;241m==\u001b[39m\u001b[38;5;241m0\u001b[39m:\n\u001b[1;32m----> 5\u001b[0m         \u001b[43mfiltered_evenr_list\u001b[49m\u001b[38;5;241m.\u001b[39mappend(i)\n\u001b[0;32m      6\u001b[0m \u001b[38;5;28;01mreturn\u001b[39;00m filtered_even_lidt\n",
      "\u001b[1;31mNameError\u001b[0m: name 'filtered_evenr_list' is not defined"
     ]
    }
   ],
   "source": [
    "def get_even(mylist):\n",
    "    filtered_even_list=[]\n",
    "    for i in mylist:\n",
    "        if i%2 ==0:\n",
    "            filtered_evenr_list.append(i)\n",
    "    return filtered_even_lidt\n",
    "a=[1,2,3,4,5,6]\n",
    "get_even(a)\n",
    "\n",
    "b= list(filter(lambda x:x%2==0))\n",
    "primt(b)"
   ]
  },
  {
   "cell_type": "code",
   "execution_count": 130,
   "id": "5474aeef-996d-406f-84b0-b7afde319910",
   "metadata": {},
   "outputs": [
    {
     "name": "stdout",
     "output_type": "stream",
     "text": [
      "(1, 8, 27, 64, 125, 287496, 91125, 39304, 10648, 32768, 39304, 175616)\n"
     ]
    }
   ],
   "source": [
    "a=[1,2,3,4,5,66,45,34,22,32,34,56]\n",
    "b=tuple(map(lambda x:x**3,a))\n",
    "print(b)"
   ]
  },
  {
   "cell_type": "code",
   "execution_count": 142,
   "id": "7884de01-f5df-496e-883b-eb52792fcc27",
   "metadata": {},
   "outputs": [
    {
     "name": "stdout",
     "output_type": "stream",
     "text": [
      "266760\n"
     ]
    }
   ],
   "source": [
    "from functools import reduce\n",
    "a=[1,65,2,36,57]\n",
    "b=reduce(lambda x,y:x*y,a)\n",
    "print(b)"
   ]
  }
 ],
 "metadata": {
  "kernelspec": {
   "display_name": "Python 3 (ipykernel)",
   "language": "python",
   "name": "python3"
  },
  "language_info": {
   "codemirror_mode": {
    "name": "ipython",
    "version": 3
   },
   "file_extension": ".py",
   "mimetype": "text/x-python",
   "name": "python",
   "nbconvert_exporter": "python",
   "pygments_lexer": "ipython3",
   "version": "3.12.4"
  }
 },
 "nbformat": 4,
 "nbformat_minor": 5
}
