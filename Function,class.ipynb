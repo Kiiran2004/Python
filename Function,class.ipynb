{
 "cells": [
  {
   "cell_type": "code",
   "execution_count": 3,
   "id": "a44eb226-9e09-4ebf-a3e3-1c2bd64c3e43",
   "metadata": {},
   "outputs": [],
   "source": [
    "class FirstClass:\n",
    "    pass"
   ]
  },
  {
   "cell_type": "code",
   "execution_count": 7,
   "id": "fbe60b3b-f619-4d1f-ae10-279695b398f8",
   "metadata": {},
   "outputs": [
    {
     "name": "stdout",
     "output_type": "stream",
     "text": [
      "<class '__main__.FirstClass'>\n"
     ]
    }
   ],
   "source": [
    "x=FirstClass()\n",
    "print(type(x))"
   ]
  },
  {
   "cell_type": "code",
   "execution_count": 28,
   "id": "b35bc3a2-aad3-4b86-8c37-75e2074ceccf",
   "metadata": {},
   "outputs": [
    {
     "name": "stdout",
     "output_type": "stream",
     "text": [
      "3\n",
      "5 is odd\n"
     ]
    },
    {
     "data": {
      "text/plain": [
       "[1, 2, 3, 4, 5]"
      ]
     },
     "execution_count": 28,
     "metadata": {},
     "output_type": "execute_result"
    }
   ],
   "source": [
    "class a:\n",
    "    def add(a,b):\n",
    "        print(a+b)\n",
    "    def odd(a):\n",
    "        if a%2!=0:\n",
    "            print(a, \"is odd\")\n",
    "\n",
    "    b=[1,2,3,4,5]\n",
    "\n",
    "# calling function using class name\n",
    "a.add(1,2)\n",
    "a.odd(5)\n",
    "a.b"
   ]
  },
  {
   "cell_type": "code",
   "execution_count": 44,
   "id": "e349d1c6-910f-47a7-a13c-1c17a3e9514f",
   "metadata": {},
   "outputs": [
    {
     "name": "stdout",
     "output_type": "stream",
     "text": [
      "1\n",
      "hello Kiran\n"
     ]
    }
   ],
   "source": [
    "class b:\n",
    "    def sub(a,b):\n",
    "        print(a-b)\n",
    "    c='xyz'\n",
    "    def name(c):\n",
    "        print(\"hello \" +c)\n",
    "\n",
    "b.sub(3,2)\n",
    "b.name(\"Kiran\")"
   ]
  },
  {
   "cell_type": "code",
   "execution_count": 5,
   "id": "4070065e-4e40-417e-b430-7f35b9eae9ff",
   "metadata": {},
   "outputs": [
    {
     "name": "stdout",
     "output_type": "stream",
     "text": [
      "-1\n"
     ]
    }
   ],
   "source": [
    "class c:\n",
    "    def sub(ab,a,b):\n",
    "        print(a-b)\n",
    "    d='xyz'\n",
    "    def name(ab,c):\n",
    "        print(\"hello \" +c)\n",
    "v=c()\n",
    "v.sub(3,4)"
   ]
  },
  {
   "cell_type": "code",
   "execution_count": 15,
   "id": "1c206630-8787-4a51-9729-98f37a9e306a",
   "metadata": {},
   "outputs": [
    {
     "name": "stdout",
     "output_type": "stream",
     "text": [
      "name of students are: ['Kiran', 'sahil', 'sanket', 'shubham']\n",
      "department ['computer_application']\n",
      "waphare\n"
     ]
    }
   ],
   "source": [
    "class college:\n",
    "    def student(self,a):\n",
    "        print(\"name of students are:\",a)\n",
    "    def department(self,e):\n",
    "        print(\"department\",e)\n",
    "    def principal(self,f):\n",
    "        print(f)\n",
    "g=college()\n",
    "g.student(['Kiran','sahil','sanket','shubham'])\n",
    "g.department(['computer_application'])\n",
    "g.principal('waphare')"
   ]
  },
  {
   "cell_type": "code",
   "execution_count": 25,
   "id": "dba0c8d3-4ccb-450a-9a08-112c1f7133cf",
   "metadata": {},
   "outputs": [
    {
     "name": "stdout",
     "output_type": "stream",
     "text": [
      "enter name of the book: ['C', 'Java', 'python', 'Android']\n",
      "prices of the boot are: [100, 120, 130, 145]\n",
      "author name ['xy', 'ab', 'qw', 'lm']\n"
     ]
    }
   ],
   "source": [
    "class book:\n",
    "    def book_name(self,a):\n",
    "        print(\"enter name of the book:\",a)\n",
    "    def book_price(self,b):\n",
    "        print(\"prices of the boot are:\",b)\n",
    "    def book_author(self,c):\n",
    "        print(\"author name\",c)\n",
    "\n",
    "g=book()\n",
    "g.book_name([\"C\",\"Java\",\"python\",\"Android\"])\n",
    "g.book_price([100,120,130,145])\n",
    "g.book_author([\"xy\",\"ab\",\"qw\",\"lm\"])"
   ]
  },
  {
   "cell_type": "code",
   "execution_count": null,
   "id": "e98e4a19-1a2b-4043-995c-73777077c295",
   "metadata": {},
   "outputs": [],
   "source": []
  }
 ],
 "metadata": {
  "kernelspec": {
   "display_name": "Python 3 (ipykernel)",
   "language": "python",
   "name": "python3"
  },
  "language_info": {
   "codemirror_mode": {
    "name": "ipython",
    "version": 3
   },
   "file_extension": ".py",
   "mimetype": "text/x-python",
   "name": "python",
   "nbconvert_exporter": "python",
   "pygments_lexer": "ipython3",
   "version": "3.12.4"
  }
 },
 "nbformat": 4,
 "nbformat_minor": 5
}
